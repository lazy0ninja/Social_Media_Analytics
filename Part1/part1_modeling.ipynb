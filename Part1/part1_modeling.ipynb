{
 "cells": [
  {
   "cell_type": "markdown",
   "source": [
    "# Q1 who is more influential??\n",
    "\n",
    "Choice is the human judgement (A>B then 1), meaning if 1, A has higher influence power according to humans\n",
    "\n",
    "**HOWEVER, how does \"human judgement\" reflect the real power of influece**"
   ],
   "metadata": {
    "collapsed": false
   },
   "id": "917d3bdf65996705"
  },
  {
   "cell_type": "code",
   "execution_count": 5,
   "id": "initial_id",
   "metadata": {
    "collapsed": true,
    "ExecuteTime": {
     "end_time": "2024-03-20T00:26:55.740934Z",
     "start_time": "2024-03-20T00:26:55.737608Z"
    }
   },
   "outputs": [],
   "source": [
    "# create prediction models and choose the best model. For Q2, models that can extract feature importance are recommneded\n",
    "\n",
    "# for details of the data, refer to the Data Description in the \"part_1_eda_features_eng.ipynb\"\n",
    "\n",
    "# maybe we should scale or standardize diff_following, diff_listed, diff_mentions or do something about the outlies. "
   ]
  },
  {
   "cell_type": "code",
   "outputs": [],
   "source": [
    "import pandas as pd\n",
    "\n",
    "df = pd.read_csv('train_v2.csv')"
   ],
   "metadata": {
    "collapsed": false,
    "ExecuteTime": {
     "end_time": "2024-03-20T00:29:13.588225Z",
     "start_time": "2024-03-20T00:29:13.571522Z"
    }
   },
   "id": "13337d2fa2f5f28",
   "execution_count": 6
  },
  {
   "cell_type": "code",
   "outputs": [
    {
     "name": "stdout",
     "output_type": "stream",
     "text": [
      "<class 'pandas.core.frame.DataFrame'>\n",
      "Int64Index: 5368 entries, 0 to 5499\n",
      "Data columns (total 15 columns):\n",
      " #   Column                        Non-Null Count  Dtype  \n",
      "---  ------                        --------------  -----  \n",
      " 0   diff_following_count          5368 non-null   int64  \n",
      " 1   diff_listed_count             5368 non-null   int64  \n",
      " 2   diff_mentions_received        5368 non-null   float64\n",
      " 3   diff_retweets_received        5368 non-null   float64\n",
      " 4   diff_mentions_sent            5368 non-null   float64\n",
      " 5   diff_retweets_sent            5368 non-null   float64\n",
      " 6   diff_posts                    5368 non-null   float64\n",
      " 7   diff_network_feature_1        5368 non-null   int64  \n",
      " 8   diff_network_feature_2        5368 non-null   float64\n",
      " 9   diff_network_feature_3        5368 non-null   float64\n",
      " 10  ratio_follower_count_A/B      5368 non-null   float64\n",
      " 11  ratio_following_count_A/B     5368 non-null   float64\n",
      " 12  ratio_mentions_received_A/B   5368 non-null   float64\n",
      " 13  ratio_posts_A/B               5368 non-null   float64\n",
      " 14  diff_social_reach_engagement  5368 non-null   float64\n",
      "dtypes: float64(12), int64(3)\n",
      "memory usage: 671.0 KB\n"
     ]
    }
   ],
   "source": [
    "df.info()"
   ],
   "metadata": {
    "collapsed": false,
    "ExecuteTime": {
     "end_time": "2024-03-20T00:29:26.069329Z",
     "start_time": "2024-03-20T00:29:26.058847Z"
    }
   },
   "id": "26c792ae66f0fb4f",
   "execution_count": 8
  },
  {
   "cell_type": "markdown",
   "source": [
    "# Q2 which factors are the best predictors of influence?"
   ],
   "metadata": {
    "collapsed": false
   },
   "id": "f96c8318d7c02b1d"
  },
  {
   "cell_type": "code",
   "outputs": [],
   "source": [],
   "metadata": {
    "collapsed": false,
    "ExecuteTime": {
     "end_time": "2024-03-20T00:29:04.365343Z",
     "start_time": "2024-03-20T00:29:04.361918Z"
    }
   },
   "id": "b805949e55d9bb49",
   "execution_count": 5
  },
  {
   "cell_type": "markdown",
   "source": [
    "# Q3 Report the confusion matrix of your “best” model"
   ],
   "metadata": {
    "collapsed": false
   },
   "id": "b216b956aac1c686"
  },
  {
   "cell_type": "code",
   "outputs": [],
   "source": [],
   "metadata": {
    "collapsed": false
   },
   "id": "6bea7f1940969a96"
  },
  {
   "cell_type": "markdown",
   "source": [
    "# Q4 Are there any surprises here? How can a business use your model/results?"
   ],
   "metadata": {
    "collapsed": false
   },
   "id": "fbb604ddcf641f5f"
  },
  {
   "cell_type": "markdown",
   "source": [
    "> what exactly are network features 1,2,3? "
   ],
   "metadata": {
    "collapsed": false
   },
   "id": "523f28cefbd51a40"
  },
  {
   "cell_type": "code",
   "outputs": [],
   "source": [],
   "metadata": {
    "collapsed": false
   },
   "id": "581e085d7a83db83"
  }
 ],
 "metadata": {
  "kernelspec": {
   "display_name": "Python 3",
   "language": "python",
   "name": "python3"
  },
  "language_info": {
   "codemirror_mode": {
    "name": "ipython",
    "version": 2
   },
   "file_extension": ".py",
   "mimetype": "text/x-python",
   "name": "python",
   "nbconvert_exporter": "python",
   "pygments_lexer": "ipython2",
   "version": "2.7.6"
  }
 },
 "nbformat": 4,
 "nbformat_minor": 5
}
