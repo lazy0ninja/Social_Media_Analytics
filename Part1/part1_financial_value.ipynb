{
 "cells": [
  {
   "cell_type": "markdown",
   "id": "eca54ce6",
   "metadata": {},
   "source": [
    "## Scenario Analysis: Influencer Marketing Impact on Retailer Profit"
   ]
  },
  {
   "cell_type": "markdown",
   "id": "55f1df67",
   "metadata": {},
   "source": [
    "**Context**: A retailer engages influencers to promote a product, deriving benefit only from influencer tweets. The product has a certain profit margin per unit, and customers can purchase only one unit each.\n",
    "\n",
    "#### Assumptions:\n",
    "- **Non-influencer tweets** yield no benefit.\n",
    "- A single influencer tweet results in a **0.02%** purchase probability among followers.\n",
    "- Two influencer tweets increase the purchase probability to **0.03%**.\n",
    "\n",
    "#### Compensation Strategy:\n",
    "- **Without Analytics**: \\\\$5 for each individual (A and B) to tweet once.\n",
    "- **With Analytics**: \\\\$10 to identified influencers for two tweets; non-influencers receive nothing.\n",
    "\n",
    "#### Questions:\n",
    "- What is the boost in expected net profit from using your analytic model (versus not using analytics)?\n",
    "- What is the boost in net profit from using a perfect analytic model (versus not using analytics)?"
   ]
  },
  {
   "cell_type": "code",
   "execution_count": 1,
   "id": "afc3c979",
   "metadata": {},
   "outputs": [],
   "source": [
    "# Load libraries\n",
    "import pandas as pd\n",
    "from pycaret.classification import *\n",
    "import numpy as np"
   ]
  },
  {
   "cell_type": "code",
   "execution_count": 2,
   "id": "db337e0c",
   "metadata": {},
   "outputs": [],
   "source": [
    "# Load test data\n",
    "df = pd.read_csv('test.csv')"
   ]
  },
  {
   "cell_type": "code",
   "execution_count": 3,
   "id": "2d233f0b",
   "metadata": {},
   "outputs": [],
   "source": [
    "# Define variables\n",
    "profit = 10\n",
    "cost_without_analytics = 5\n",
    "cost_with_analytics = 10\n",
    "prob_one_tweet = 0.0002\n",
    "prob_two_tweets = 0.0003"
   ]
  },
  {
   "cell_type": "markdown",
   "id": "88a07286",
   "metadata": {},
   "source": [
    "### Scenario 1: Without Analytics\n",
    "To accurately obtain the financial value of the model, we'll work with unseen data, which in this case is the test.csv file."
   ]
  },
  {
   "cell_type": "code",
   "execution_count": 4,
   "id": "9dea1d57",
   "metadata": {},
   "outputs": [],
   "source": [
    "# Convert the target vairbles into a binary one (transform prob. values to 0 or 1)\n",
    "df['Choice'] = df['Choice'].apply(lambda x: 1 if x > 0.5 else 0)"
   ]
  },
  {
   "cell_type": "code",
   "execution_count": 5,
   "id": "07226c8b",
   "metadata": {},
   "outputs": [
    {
     "name": "stdout",
     "output_type": "stream",
     "text": [
      "Total profit without analytics: $14442737.0\n"
     ]
    }
   ],
   "source": [
    "# PROFIT WITHOUT ANALYTICS\n",
    "# Each person receives $5 to tweet once\n",
    "\n",
    "revenue_without_analytics = sum(df.apply(lambda row: profit * prob_one_tweet * (row['A_follower_count'] if row['Choice'] == 1 else row['B_follower_count']), axis=1))\n",
    "\n",
    "total_cost_without_analytics = cost_without_analytics * 2 * len(df)\n",
    "\n",
    "total_profit_without_analytics = revenue_without_analytics - total_cost_without_analytics\n",
    "print(f'Total profit without analytics: ${round(total_profit_without_analytics,0)}')"
   ]
  },
  {
   "cell_type": "markdown",
   "id": "605f04c7",
   "metadata": {},
   "source": [
    "### Scenario 2: With Analytics\n",
    "For this scenario, we'll apply the Gradient Boosting Classifier that was previously obtained as the best classifier for this excercise. I order to run the model, we'll pre-process the data."
   ]
  },
  {
   "cell_type": "code",
   "execution_count": 6,
   "id": "9cdc02c9",
   "metadata": {},
   "outputs": [],
   "source": [
    "# Same steps took in the 'part1_eda_features_eng' for data pre-processing\n",
    "# Drop the target for modeling\n",
    "new_df = df.drop('Choice', axis=1)\n",
    "\n",
    "# Add the differential features\n",
    "differential_features = ['follower_count', 'following_count', 'listed_count',\n",
    "                         'mentions_received', 'retweets_received', 'mentions_sent',\n",
    "                         'retweets_sent', 'posts', 'network_feature_1',\n",
    "                         'network_feature_2', 'network_feature_3']\n",
    "\n",
    "for feature in differential_features:\n",
    "    new_df[f'diff_{feature}'] = new_df[f'A_{feature}'] - new_df[f'B_{feature}']\n",
    "    \n",
    "# Add the ratio the features\n",
    "ratio_features = ['follower_count', 'following_count', 'mentions_received', 'posts']\n",
    "for feature in ratio_features:\n",
    "    # add a very small number to the denominator to avoid division by zero\n",
    "    new_df[f'ratio_{feature}_A/B'] = new_df[f'A_{feature}'] / (new_df[f'B_{feature}'] + 1e-6)\n",
    "    \n",
    "# Add interaction features\n",
    "new_df['social_reach_engagement_A'] = (new_df['A_follower_count'] + new_df['A_listed_count']) / (new_df['A_mentions_received'] + (new_df['A_retweets_received'])+ 1e-6) # this is to avoid division by 0\n",
    "new_df['social_reach_engagement_B'] = (new_df['B_follower_count'] + new_df['B_listed_count']) / (new_df['B_mentions_received'] + (new_df['B_retweets_received'])+ 1e-6)\n",
    "\n",
    "# Add the difference of social reach engagement\n",
    "new_df['diff_social_reach_engagement'] = new_df['social_reach_engagement_A'] - new_df['social_reach_engagement_B']\n",
    "\n",
    "# Drop the original columns\n",
    "new_df.drop(columns=['social_reach_engagement_A', 'social_reach_engagement_B'], inplace=True)\n",
    "\n",
    "new_df = new_df.iloc[:,23:]"
   ]
  },
  {
   "cell_type": "code",
   "execution_count": 7,
   "id": "b15c35e7",
   "metadata": {},
   "outputs": [
    {
     "name": "stdout",
     "output_type": "stream",
     "text": [
      "Transformation Pipeline and Model Successfully Loaded\n"
     ]
    }
   ],
   "source": [
    "# Load the GBC model\n",
    "model = load_model('final_gbc')"
   ]
  },
  {
   "cell_type": "code",
   "execution_count": 8,
   "id": "48906211",
   "metadata": {},
   "outputs": [],
   "source": [
    "# Obtain the predictions\n",
    "new_df['predicted_Choice'] = model.predict(new_df)"
   ]
  },
  {
   "cell_type": "code",
   "execution_count": 9,
   "id": "ab43c1bd",
   "metadata": {},
   "outputs": [],
   "source": [
    "# Join the 'Choice' and 'followers_count' variables\n",
    "new_df = new_df.join(df[['Choice', 'A_follower_count', 'B_follower_count']])"
   ]
  },
  {
   "cell_type": "code",
   "execution_count": 10,
   "id": "7af8820f",
   "metadata": {},
   "outputs": [
    {
     "name": "stdout",
     "output_type": "stream",
     "text": [
      "Total profit with analytics: $19394146.0\n"
     ]
    }
   ],
   "source": [
    "# PROFIT WITH ANALYTICS\n",
    "# Only the influencer receives $10 to tweet twice\n",
    "\n",
    "revenue_with_analytics = sum(new_df.apply(lambda row: \n",
    "                                          (profit * prob_two_tweets * row['A_follower_count'] if row['predicted_Choice'] == 1 and row['Choice'] == row['predicted_Choice'] else 0) +\n",
    "                                          (profit * prob_two_tweets * row['B_follower_count'] if row['predicted_Choice'] == 0 and row['Choice'] == row['predicted_Choice'] else 0), \n",
    "                                          axis=1))\n",
    "\n",
    "total_cost_with_analytics = cost_with_analytics * len(df)\n",
    "\n",
    "total_profit_with_analytics = revenue_with_analytics - total_cost_with_analytics\n",
    "print(f'Total profit with analytics: ${round(total_profit_with_analytics,0)}')"
   ]
  },
  {
   "cell_type": "markdown",
   "id": "4e474ec6",
   "metadata": {},
   "source": [
    "### Scenario 3: Perfect Analytics\n",
    "In this scenario, we are assuming that all predictions were accurate."
   ]
  },
  {
   "cell_type": "code",
   "execution_count": 11,
   "id": "b8af9374",
   "metadata": {},
   "outputs": [
    {
     "name": "stdout",
     "output_type": "stream",
     "text": [
      "Total profit with PERFECT analytics: $21693865.0\n"
     ]
    }
   ],
   "source": [
    "# PROFIT PERFECT ANALYTICS\n",
    "# Only the influencer receives $10 to tweet twice\n",
    "\n",
    "revenue_perfect_analytics = sum(new_df.apply(lambda row: profit * prob_two_tweets * (row['A_follower_count'] if row['Choice'] == 1 else row['B_follower_count']), axis=1))\n",
    "\n",
    "total_cost_perfect_analytics = cost_with_analytics * len(df)\n",
    "\n",
    "total_profit_perfect_analytics = revenue_perfect_analytics - total_cost_perfect_analytics\n",
    "print(f'Total profit with PERFECT analytics: ${round(total_profit_perfect_analytics,0)}')"
   ]
  },
  {
   "cell_type": "markdown",
   "id": "272a6298",
   "metadata": {},
   "source": [
    "### Summarize the Scenarios"
   ]
  },
  {
   "cell_type": "code",
   "execution_count": 12,
   "id": "fc4050ac",
   "metadata": {},
   "outputs": [
    {
     "data": {
      "text/html": [
       "<div>\n",
       "<style scoped>\n",
       "    .dataframe tbody tr th:only-of-type {\n",
       "        vertical-align: middle;\n",
       "    }\n",
       "\n",
       "    .dataframe tbody tr th {\n",
       "        vertical-align: top;\n",
       "    }\n",
       "\n",
       "    .dataframe thead th {\n",
       "        text-align: right;\n",
       "    }\n",
       "</style>\n",
       "<table border=\"1\" class=\"dataframe\">\n",
       "  <thead>\n",
       "    <tr style=\"text-align: right;\">\n",
       "      <th></th>\n",
       "      <th>Scenario</th>\n",
       "      <th>Total Profit</th>\n",
       "      <th>Diff in Value</th>\n",
       "      <th>Diff in %</th>\n",
       "    </tr>\n",
       "  </thead>\n",
       "  <tbody>\n",
       "    <tr>\n",
       "      <th>0</th>\n",
       "      <td>Without Analytics</td>\n",
       "      <td>14442737.0</td>\n",
       "      <td>0.0</td>\n",
       "      <td>0.0</td>\n",
       "    </tr>\n",
       "    <tr>\n",
       "      <th>1</th>\n",
       "      <td>With Analytics</td>\n",
       "      <td>19394146.0</td>\n",
       "      <td>4951409.0</td>\n",
       "      <td>34.0</td>\n",
       "    </tr>\n",
       "    <tr>\n",
       "      <th>2</th>\n",
       "      <td>Perfect Analytics</td>\n",
       "      <td>21693865.0</td>\n",
       "      <td>7251128.0</td>\n",
       "      <td>50.0</td>\n",
       "    </tr>\n",
       "  </tbody>\n",
       "</table>\n",
       "</div>"
      ],
      "text/plain": [
       "            Scenario  Total Profit  Diff in Value  Diff in %\n",
       "0  Without Analytics    14442737.0            0.0        0.0\n",
       "1     With Analytics    19394146.0      4951409.0       34.0\n",
       "2  Perfect Analytics    21693865.0      7251128.0       50.0"
      ]
     },
     "execution_count": 12,
     "metadata": {},
     "output_type": "execute_result"
    }
   ],
   "source": [
    "# Create a DataFrame to display the summary\n",
    "profits_df = pd.DataFrame({\n",
    "    'Scenario': ['Without Analytics', 'With Analytics', 'Perfect Analytics'],\n",
    "    'Total Profit': [total_profit_without_analytics, total_profit_with_analytics, total_profit_perfect_analytics]})\n",
    "\n",
    "profits_df['Diff in Value'] = profits_df['Total Profit'] - profits_df.loc[0, 'Total Profit']\n",
    "profits_df['Diff in %'] = (profits_df['Diff in Value'] / profits_df.loc[0, 'Total Profit']) * 100\n",
    "\n",
    "profits_df = profits_df.round(0)\n",
    "profits_df"
   ]
  }
 ],
 "metadata": {
  "kernelspec": {
   "display_name": "Python 3.8 (causalml)",
   "language": "python",
   "name": "causalml-py38"
  },
  "language_info": {
   "codemirror_mode": {
    "name": "ipython",
    "version": 3
   },
   "file_extension": ".py",
   "mimetype": "text/x-python",
   "name": "python",
   "nbconvert_exporter": "python",
   "pygments_lexer": "ipython3",
   "version": "3.11.5"
  }
 },
 "nbformat": 4,
 "nbformat_minor": 5
}
