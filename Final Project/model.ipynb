{
 "cells": [
  {
   "cell_type": "code",
   "execution_count": 64,
   "metadata": {},
   "outputs": [],
   "source": [
    "# read the final_artist_data.csv\n",
    "\n",
    "import pandas as pd\n",
    "import numpy as np\n",
    "import ast"
   ]
  },
  {
   "cell_type": "code",
   "execution_count": 65,
   "metadata": {},
   "outputs": [],
   "source": [
    "df = pd.read_csv('final_artist_data.csv')"
   ]
  },
  {
   "cell_type": "code",
   "execution_count": 66,
   "metadata": {},
   "outputs": [
    {
     "name": "stdout",
     "output_type": "stream",
     "text": [
      "id                            0\n",
      "artist                        1\n",
      "aggregated_values             0\n",
      "collaborated_artist           0\n",
      "collaborated_artist_id        0\n",
      "spotify_id                    0\n",
      "followers                     0\n",
      "popularity                    0\n",
      "genres                        0\n",
      "chart_hits                14662\n",
      "dtype: int64\n"
     ]
    }
   ],
   "source": [
    "# check the missing data\n",
    "print(df.isnull().sum())\n",
    "\n",
    "# drop the row with null data in artist\n",
    "df = df.dropna(subset=['artist'])"
   ]
  },
  {
   "cell_type": "code",
   "execution_count": 72,
   "metadata": {},
   "outputs": [],
   "source": [
    "columns_to_convert = ['aggregated_values', 'collaborated_artist', 'collaborated_artist_id', 'genres', 'chart_hits']"
   ]
  },
  {
   "cell_type": "code",
   "execution_count": 73,
   "metadata": {},
   "outputs": [],
   "source": [
    "def safe_literal_eval(s):\n",
    "    try:\n",
    "        return ast.literal_eval(s)\n",
    "    except (ValueError, SyntaxError):\n",
    "        # Optionally, you could handle or log the error here\n",
    "        return s  # Return the original string if conversion fails\n",
    "\n",
    "# Apply the conversion to each specified column\n",
    "for col in columns_to_convert:\n",
    "    df[col] = df[col].apply(safe_literal_eval)"
   ]
  },
  {
   "cell_type": "code",
   "execution_count": null,
   "metadata": {},
   "outputs": [],
   "source": [
    "df"
   ]
  }
 ],
 "metadata": {
  "kernelspec": {
   "display_name": "MMA",
   "language": "python",
   "name": "python3"
  },
  "language_info": {
   "codemirror_mode": {
    "name": "ipython",
    "version": 3
   },
   "file_extension": ".py",
   "mimetype": "text/x-python",
   "name": "python",
   "nbconvert_exporter": "python",
   "pygments_lexer": "ipython3",
   "version": "3.11.5"
  }
 },
 "nbformat": 4,
 "nbformat_minor": 2
}
